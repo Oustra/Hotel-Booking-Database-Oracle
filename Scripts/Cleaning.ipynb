{
  "nbformat": 4,
  "nbformat_minor": 0,
  "metadata": {
    "colab": {
      "provenance": []
    },
    "kernelspec": {
      "name": "python3",
      "display_name": "Python 3"
    },
    "language_info": {
      "name": "python"
    }
  },
  "cells": [
    {
      "cell_type": "markdown",
      "source": [
        "# Création du Data Warehouse"
      ],
      "metadata": {
        "id": "pdRH3EYpVR4K"
      }
    },
    {
      "cell_type": "markdown",
      "source": [
        "## Importations"
      ],
      "metadata": {
        "id": "vXaY2UZJVdXu"
      }
    },
    {
      "cell_type": "code",
      "execution_count": 1,
      "metadata": {
        "colab": {
          "base_uri": "https://localhost:8080/"
        },
        "id": "zT5GvPezVGws",
        "outputId": "8685d445-df8f-417f-bce4-0b487260fbdc"
      },
      "outputs": [
        {
          "output_type": "stream",
          "name": "stdout",
          "text": [
            "Mounted at /content/drive\n"
          ]
        }
      ],
      "source": [
        "import pandas as pd\n",
        "import sqlite3\n",
        "import numpy as np\n",
        "from google.colab import drive\n",
        "drive.mount('/content/drive')"
      ]
    },
    {
      "cell_type": "markdown",
      "source": [
        "## Cleaning"
      ],
      "metadata": {
        "id": "Xcm6iElZVi3M"
      }
    },
    {
      "cell_type": "code",
      "source": [
        "# Charger les données\n",
        "df_agent = pd.read_csv(\"/content/drive/MyDrive/DATA/Hotel/agent.csv\")\n",
        "df_hotel = pd.read_csv(\"/content/drive/MyDrive/DATA/Hotel/booking.csv\")\n",
        "\n",
        "# Supprimer les réservations avec un nombre d'adultes aberrant (plus de 5)\n",
        "df_hotel = df_hotel[df_hotel[\"adults\"] <= 5]\n",
        "\n",
        "# Supprimer les réservations avec un nombre d'enfants/bébés aberrant (plus de 5)\n",
        "df_hotel = df_hotel[(df_hotel[\"children\"] <= 5) & (df_hotel[\"babies\"] <= 5)]\n",
        "\n",
        "# Supprimer les Average Daily Rate (ADR) inférieur à 0\n",
        "df_hotel = df_hotel[(df_hotel[\"adr\"] >= 0)]"
      ],
      "metadata": {
        "id": "ZZ_LkKr7VRjz"
      },
      "execution_count": 2,
      "outputs": []
    },
    {
      "cell_type": "markdown",
      "source": [
        "## Création des dimensions\n"
      ],
      "metadata": {
        "id": "2NT44D5oWjlg"
      }
    },
    {
      "cell_type": "code",
      "source": [
        "##########\n",
        "# hotel\n",
        "##########\n",
        "df_dim_hotel = df_hotel[['hotel']].drop_duplicates().reset_index(drop=True)\n",
        "df_dim_hotel['hotel_key'] = df_dim_hotel.index + 1\n",
        "df_dim_hotel.rename(columns={'hotel': 'hotel_name'}, inplace=True)\n",
        "\n",
        "##########\n",
        "# agent\n",
        "##########\n",
        "df_dim_agent = df_agent[['agent_id', 'starting_date', 'year', 'total_work_hours', 'total_commission']].drop_duplicates().reset_index(drop=True)\n",
        "df_dim_agent['agent_key'] = df_dim_agent.index + 1\n",
        "\n",
        "##########\n",
        "# date\n",
        "##########\n",
        "# Extraction et nettoyage des données de date\n",
        "df_dim_date = df_hotel[['arrival_date_year', 'arrival_date_month', 'arrival_date_week_number', 'arrival_date_day_of_month']].drop_duplicates()\n",
        "# Conversion du mois en format numérique\n",
        "df_dim_date['month'] = pd.to_datetime(df_dim_date['arrival_date_month'], format='%B').dt.month\n",
        "# Création de la colonne full_date\n",
        "df_dim_date['full_date'] = pd.to_datetime(df_dim_date[['arrival_date_year', 'month', 'arrival_date_day_of_month']].rename(columns={\n",
        "    'arrival_date_year': 'year',\n",
        "    'arrival_date_day_of_month': 'day'\n",
        "}))\n",
        "# Ajout des colonnes supplémentaires\n",
        "df_dim_date['quarter'] = (df_dim_date['month'] - 1) // 3 + 1\n",
        "df_dim_date['day_of_week'] = df_dim_date['full_date'].dt.dayofweek + 1\n",
        "df_dim_date['is_weekend'] = df_dim_date['day_of_week'].isin([6, 7]).astype(int)\n",
        "# Renommage final et ajout de la clé unique\n",
        "df_dim_date = df_dim_date.rename(columns={\n",
        "    'arrival_date_year': 'year',\n",
        "    'arrival_date_week_number': 'week_number',\n",
        "    'arrival_date_day_of_month': 'day'\n",
        "}).reset_index(drop=True)\n",
        "df_dim_date['date_key'] = df_dim_date.index + 1\n",
        "\n",
        "##########\n",
        "# customer et customer_secure\n",
        "##########\n",
        "# Créer df_dim_customer avec les colonnes nécessaires\n",
        "df_dim_customer = df_hotel[['name', 'country', 'is_repeated_guest', 'previous_cancellations',\n",
        "                            'previous_bookings_not_canceled', 'customer_type', 'required_car_parking_spaces',\n",
        "                            'total_of_special_requests', 'credit_card', 'email', 'phone-number']].drop_duplicates().reset_index(drop=True)\n",
        "# Ajouter une colonne 'customer_key' qui sera une clé unique pour chaque client\n",
        "df_dim_customer['customer_key'] = df_dim_customer.index + 1\n",
        "# Créer df_dim_customer_secure avec les informations sécurisées et la même clé 'customer_key'\n",
        "df_dim_customer_secure = df_dim_customer[['customer_key', 'credit_card', 'email', 'phone-number']].drop_duplicates()\n",
        "\n",
        "##########\n",
        "# room\n",
        "##########\n",
        "df_dim_room = df_hotel[['reserved_room_type', 'assigned_room_type']].drop_duplicates().reset_index(drop=True)\n",
        "df_dim_room['room_key'] = df_dim_room.index + 1\n",
        "\n",
        "##########\n",
        "# market\n",
        "##########\n",
        "df_dim_market = df_hotel[['market_segment', 'distribution_channel']].drop_duplicates().reset_index(drop=True)\n",
        "df_dim_market['market_key'] = df_dim_market.index + 1"
      ],
      "metadata": {
        "id": "6dF7ncKaWjvH"
      },
      "execution_count": 6,
      "outputs": []
    },
    {
      "cell_type": "markdown",
      "source": [
        "## Création de la table des fait"
      ],
      "metadata": {
        "id": "-OQcsACyZxg0"
      }
    },
    {
      "cell_type": "code",
      "source": [
        "# Copie du DataFrame original\n",
        "df_fact_booking = df_hotel.copy()\n",
        "\n",
        "# Ajout de la clé étrangère pour la table `hotel`\n",
        "df_fact_booking = df_fact_booking.merge(\n",
        "    df_dim_hotel[['hotel_name', 'hotel_key']],  # On récupère uniquement les colonnes nécessaires\n",
        "    left_on='hotel',  # Correspondance avec la colonne `hotel` de df_fact_booking\n",
        "    right_on='hotel_name',\n",
        "    how='left'  # Jointure à gauche pour garder toutes les réservations\n",
        ")\n",
        "df_fact_booking.drop(columns=['hotel_name', 'hotel'], inplace=True)\n",
        "\n",
        "# Ajout de la clé étrangère pour la table `agent`\n",
        "df_fact_booking = df_fact_booking.merge(\n",
        "    df_dim_agent[['agent_id', 'year', 'agent_key']],\n",
        "    left_on=['agent', 'arrival_date_year'],\n",
        "    right_on=['agent_id', 'year'],\n",
        "    how='left'\n",
        ")\n",
        "df_fact_booking.drop(columns=['agent_id', 'agent', 'year'], inplace=True)\n",
        "\n",
        "# Conversion du mois de texte en format numérique\n",
        "df_fact_booking['arrival_date_month'] = pd.to_datetime(\n",
        "    df_fact_booking['arrival_date_month'], format='%B'\n",
        ").dt.month\n",
        "\n",
        "# Ajout de la clé étrangère pour la table `date`\n",
        "df_fact_booking = df_fact_booking.merge(\n",
        "    df_dim_date[['year', 'month', 'day', 'date_key']],\n",
        "    left_on=['arrival_date_year', 'arrival_date_month', 'arrival_date_day_of_month'],\n",
        "    right_on=['year', 'month', 'day'],\n",
        "    how='left'\n",
        ")\n",
        "df_fact_booking.drop(columns=['year', 'month', 'day', 'arrival_date_year',\n",
        "                              'arrival_date_month', 'arrival_date_day_of_month',\n",
        "                              'arrival_date_week_number'], inplace=True)\n",
        "\n",
        "# Ajout de la clé étrangère pour la table `room`\n",
        "df_fact_booking = df_fact_booking.merge(\n",
        "    df_dim_room[['reserved_room_type', 'assigned_room_type', 'room_key']],\n",
        "    on=['reserved_room_type', 'assigned_room_type'],\n",
        "    how='left'\n",
        ")\n",
        "df_fact_booking.drop(columns=['reserved_room_type', 'assigned_room_type'], inplace=True)\n",
        "\n",
        "# Ajout de la clé étrangère pour la table `customer`\n",
        "df_fact_booking = df_fact_booking.merge(\n",
        "    df_dim_customer[['name', 'country', 'previous_cancellations',\n",
        "                     'previous_bookings_not_canceled', 'total_of_special_requests',\n",
        "                     'required_car_parking_spaces', 'is_repeated_guest', 'customer_type',\n",
        "                     'credit_card', 'email', 'phone-number', 'customer_key']],\n",
        "    on=['name', 'country', 'previous_cancellations',\n",
        "        'previous_bookings_not_canceled', 'total_of_special_requests',\n",
        "        'required_car_parking_spaces', 'is_repeated_guest', 'customer_type',\n",
        "        'credit_card', 'email', 'phone-number'],\n",
        "    how='left'\n",
        ")\n",
        "# Suppression des colonnes personnelles et redondantes après la jointure\n",
        "df_fact_booking.drop(columns=['name', 'country', 'previous_cancellations',\n",
        "                              'previous_bookings_not_canceled', 'total_of_special_requests',\n",
        "                              'required_car_parking_spaces', 'is_repeated_guest', 'customer_type',\n",
        "                              'credit_card', 'email', 'phone-number'], inplace=True)\n",
        "\n",
        "# Ajout de la clé étrangère pour la table `market`\n",
        "df_fact_booking = df_fact_booking.merge(\n",
        "    df_dim_market[['market_segment', 'distribution_channel', 'market_key']],\n",
        "    on=['market_segment', 'distribution_channel'],\n",
        "    how='left'\n",
        ")\n",
        "df_fact_booking.drop(columns=['market_segment', 'distribution_channel'], inplace=True)\n",
        "df_fact_booking['booking_id'] = df_fact_booking.index + 1"
      ],
      "metadata": {
        "id": "E1Epz-vUZxpF"
      },
      "execution_count": 7,
      "outputs": []
    },
    {
      "cell_type": "markdown",
      "source": [
        "## Cleaning des tables créées\n"
      ],
      "metadata": {
        "id": "grBGKkpMbtFk"
      }
    },
    {
      "cell_type": "code",
      "source": [
        "##########\n",
        "# factbooking\n",
        "##########\n",
        "# Mise en int pour correspondre avec notre entrepôt\n",
        "df_fact_booking[\"agent_key\"] = df_fact_booking[\"agent_key\"].fillna(-1).astype(int)\n",
        "df_fact_booking[\"company\"] = df_fact_booking[\"company\"].fillna(-1).astype(int)\n",
        "df_fact_booking['children'] = df_fact_booking['children'].astype(int)\n",
        "\n",
        "##########\n",
        "# customer\n",
        "##########\n",
        "# supression des colonnes inutiles\n",
        "df_dim_customer.drop(columns=['credit_card','phone-number','email'], inplace=True)\n",
        "\n",
        "##########\n",
        "# agent\n",
        "##########\n",
        "# Ajouter une ligne pour correspondre aux agents NaN=-1\n",
        "new_row = {\n",
        "    'agent_key': '-1',\n",
        "    'agent_id': '-1'\n",
        "}\n",
        "new_row_df = pd.DataFrame([new_row])\n",
        "df_agent = pd.concat([df_agent, new_row_df], ignore_index=True)"
      ],
      "metadata": {
        "id": "XY-HOxtTbtQX"
      },
      "execution_count": 8,
      "outputs": []
    },
    {
      "cell_type": "markdown",
      "source": [
        "## Récupération des dataframes en CSV\n",
        "\n",
        "\n"
      ],
      "metadata": {
        "id": "N0QXDsCyei8J"
      }
    },
    {
      "cell_type": "code",
      "source": [
        "output_path = \"/content/drive/MyDrive/DATA/Hotel/v2/\"\n",
        "\n",
        "# Sauvegarde des DataFrames en CSV\n",
        "df_dim_agent.to_csv(output_path + \"DimAgent.csv\", index=False)\n",
        "df_dim_date.to_csv(output_path + \"DimDate.csv\", index=False)\n",
        "df_dim_hotel.to_csv(output_path + \"DimHotel.csv\", index=False)\n",
        "df_dim_customer.to_csv(output_path + \"DimCustomer.csv\", index=False)\n",
        "df_dim_customer_secure.to_csv(output_path + \"DimCustomerSecure.csv\", index=False)\n",
        "df_dim_room.to_csv(output_path + \"DimRoom.csv\", index=False)\n",
        "df_dim_market.to_csv(output_path + \"DimMarket.csv\", index=False)\n",
        "df_fact_booking.to_csv(output_path + \"FactBooking.csv\", index=False)"
      ],
      "metadata": {
        "id": "O-kBWdf6ejFg"
      },
      "execution_count": 9,
      "outputs": []
    },
    {
      "cell_type": "markdown",
      "source": [
        "## Observation"
      ],
      "metadata": {
        "id": "qvOhoRbqW6ev"
      }
    },
    {
      "cell_type": "code",
      "source": [
        "pd.set_option('display.max_columns', None)  # Afficher toutes les colonnes\n",
        "pd.set_option('display.width', 1000)  # Ajuster la largeur d'affichage\n",
        "\n",
        "print(df_dim_customer.head(10))\n",
        "print(\"Nombre de lignes :\",df_dim_customer.shape[0])"
      ],
      "metadata": {
        "colab": {
          "base_uri": "https://localhost:8080/"
        },
        "id": "WgWA9BKPW8kg",
        "outputId": "ef11062d-82aa-4177-d303-47dc7318bfd2"
      },
      "execution_count": 10,
      "outputs": [
        {
          "output_type": "stream",
          "name": "stdout",
          "text": [
            "               name country  is_repeated_guest  previous_cancellations  previous_bookings_not_canceled customer_type  required_car_parking_spaces  total_of_special_requests  customer_key\n",
            "0     Ernest Barnes     PRT                  0                       0                               0     Transient                            0                          0             1\n",
            "1      Andrea Baker     PRT                  0                       0                               0     Transient                            0                          0             2\n",
            "2    Rebecca Parker     GBR                  0                       0                               0     Transient                            0                          0             3\n",
            "3      Laura Murray     GBR                  0                       0                               0     Transient                            0                          0             4\n",
            "4       Linda Hines     GBR                  0                       0                               0     Transient                            0                          1             5\n",
            "5  Jasmine Fletcher     GBR                  0                       0                               0     Transient                            0                          1             6\n",
            "6      Dylan Rangel     PRT                  0                       0                               0     Transient                            0                          0             7\n",
            "7     William Velez     PRT                  0                       0                               0     Transient                            0                          1             8\n",
            "8     Steven Murphy     PRT                  0                       0                               0     Transient                            0                          1             9\n",
            "9     Michael Moore     PRT                  0                       0                               0     Transient                            0                          0            10\n",
            "Nombre de lignes : 119368\n"
          ]
        }
      ]
    }
  ]
}